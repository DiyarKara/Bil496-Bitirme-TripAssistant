{
 "cells": [
  {
   "cell_type": "code",
   "execution_count": 1,
   "metadata": {},
   "outputs": [
    {
     "name": "stdout",
     "output_type": "stream",
     "text": [
      "Note: you may need to restart the kernel to use updated packages.\n"
     ]
    },
    {
     "name": "stderr",
     "output_type": "stream",
     "text": [
      "WARNING: You are using pip version 22.0.4; however, version 24.0 is available.\n",
      "You should consider upgrading via the 'c:\\Users\\diyar\\AppData\\Local\\Programs\\Python\\Python310\\python.exe -m pip install --upgrade pip' command.\n"
     ]
    }
   ],
   "source": [
    "%pip install -q langchain==0.0.150 pypdf pandas matplotlib tiktoken textract transformers openai faiss-cpu"
   ]
  },
  {
   "cell_type": "code",
   "execution_count": 2,
   "metadata": {},
   "outputs": [],
   "source": [
    "import os\n",
    "import pandas as pd\n",
    "import matplotlib.pyplot as plt\n",
    "from transformers import GPT2TokenizerFast\n",
    "from langchain.document_loaders import PyPDFLoader\n",
    "from langchain.text_splitter import RecursiveCharacterTextSplitter\n",
    "from langchain.embeddings import OpenAIEmbeddings\n",
    "from langchain.vectorstores import FAISS\n",
    "from langchain.chains.question_answering import load_qa_chain\n",
    "from langchain.llms import OpenAI\n",
    "from langchain.chains import ConversationalRetrievalChain"
   ]
  },
  {
   "cell_type": "code",
   "execution_count": 3,
   "metadata": {},
   "outputs": [],
   "source": [
    "from langchain.document_loaders import DirectoryLoader"
   ]
  },
  {
   "cell_type": "code",
   "execution_count": 4,
   "metadata": {},
   "outputs": [],
   "source": []
  },
  {
   "cell_type": "code",
   "execution_count": 5,
   "metadata": {},
   "outputs": [
    {
     "name": "stdout",
     "output_type": "stream",
     "text": [
      "page_content='ℹ ℹPDF\\nWhen folding the\\nsheet, we would\\nsuggest placing  \\npressure with your\\nfingers on the side to\\nbe folded,\\nso that it might open\\nup,\\nbut if you want to\\npermanently remedy\\nthis problem, \\nit is enough to apply a\\nvery small amount of\\nglue.Starting with the printer set-up:\\nselect A4 format \\nand change \\nthe direction of the paper \\nfrom vertical to horizontal.\\nWe can start to\\nprint your guide,\\nin the new and fast pdf format\\nNow you will have \\nprinted the whole document                  \\n   Fold the sheet exactly in the\\ncentre, along an imaginary line,keeping the printed side to theoutside,repeat this operation for all pages.\\nNow you will have a mountain of\\nflapping sheets in front of you, do not worry, we are almostthere, the only thing left to do, is to re-bind the whole guide by the edges of thelongest sides of the sheets, with  a normalstapler (1) or, for a moreaesthetic result, referring the work to abookbinder asking for spiralbinding(2). \\nCongratulations, you are now\\n“EXPERT PUBLISHERS”.\\n/filetalltext3☺f\\nf\\n1 2Suggestionshow to print and assemble theguideassemblingtheguide' metadata={'source': 'C:\\\\Users\\\\diyar\\\\Desktop\\\\bil496\\\\webapp\\\\romePdf\\\\rome_guide.pdf', 'page': 0}\n"
     ]
    }
   ],
   "source": [
    "# You MUST add your PDF to local files in this notebook (folder icon on left hand side of screen)\n",
    "\n",
    "# Simple method - Split by pages \n",
    "root_dir = \"C:\\\\Users\\\\diyar\\\\Desktop\\\\bil496\\\\webapp\\\\romePdf\"\n",
    "loader = DirectoryLoader(f'{root_dir}', glob=\"./*.pdf\", loader_cls=PyPDFLoader)\n",
    "pages = loader.load_and_split()\n",
    "print(pages[0])\n"
   ]
  },
  {
   "cell_type": "code",
   "execution_count": 35,
   "metadata": {},
   "outputs": [
    {
     "data": {
      "text/plain": [
       "Document(page_content='ℹ ℹPDF\\nWhen folding the\\nsheet, we would\\nsuggest placing  \\npressure with your\\nfingers on the side to\\nbe folded,\\nso that it might open\\nup,\\nbut if you want to\\npermanently remedy\\nthis problem, \\nit is enough to apply a\\nvery small amount of\\nglue.Starting with the printer set-up:\\nselect A4 format \\nand change \\nthe direction of the paper \\nfrom vertical to horizontal.\\nWe can start to\\nprint your guide,\\nin the new and fast pdf format\\nNow you will have \\nprinted the whole document                  \\n   Fold the sheet exactly in the\\ncentre, along an imaginary line,keeping the printed side to theoutside,repeat this operation for all pages.\\nNow you will have a mountain of\\nflapping sheets in front of you, do not worry, we are almostthere, the only thing left to do, is to re-bind the whole guide by the edges of thelongest sides of the sheets, with  a normalstapler (1) or, for a moreaesthetic result, referring the work to abookbinder asking for spiralbinding(2). \\nCongratulations, you are now\\n“EXPERT PUBLISHERS”.\\n/filetalltext3☺f\\nf\\n1 2Suggestionshow to print and assemble theguideassemblingtheguide', metadata={'source': 'C:\\\\Users\\\\diyar\\\\Desktop\\\\bil496\\\\webapp\\\\romePdf\\\\rome_guide.pdf', 'page': 0})"
      ]
     },
     "execution_count": 35,
     "metadata": {},
     "output_type": "execute_result"
    }
   ],
   "source": [
    "pages[0]"
   ]
  },
  {
   "cell_type": "code",
   "execution_count": 36,
   "metadata": {},
   "outputs": [
    {
     "ename": "TypeError",
     "evalue": "object of type 'Document' has no len()",
     "output_type": "error",
     "traceback": [
      "\u001b[1;31m---------------------------------------------------------------------------\u001b[0m",
      "\u001b[1;31mTypeError\u001b[0m                                 Traceback (most recent call last)",
      "Cell \u001b[1;32mIn[36], line 20\u001b[0m\n\u001b[0;32m     17\u001b[0m npages \u001b[38;5;241m=\u001b[39m loader\u001b[38;5;241m.\u001b[39mload_and_split()\n\u001b[0;32m     19\u001b[0m \u001b[38;5;66;03m# Create documents from pages\u001b[39;00m\n\u001b[1;32m---> 20\u001b[0m ndocuments \u001b[38;5;241m=\u001b[39m \u001b[43mcreate_documents_from_pages\u001b[49m\u001b[43m(\u001b[49m\u001b[43mnpages\u001b[49m\u001b[43m)\u001b[49m\n\u001b[0;32m     22\u001b[0m \u001b[38;5;66;03m# Use these documents for creating embeddings and FAISS index\u001b[39;00m\n\u001b[0;32m     23\u001b[0m ndb \u001b[38;5;241m=\u001b[39m FAISS\u001b[38;5;241m.\u001b[39mfrom_documents(ndocuments, nembeddings)\n",
      "Cell \u001b[1;32mIn[36], line 10\u001b[0m, in \u001b[0;36mcreate_documents_from_pages\u001b[1;34m(pages)\u001b[0m\n\u001b[0;32m      8\u001b[0m documents \u001b[38;5;241m=\u001b[39m []\n\u001b[0;32m      9\u001b[0m \u001b[38;5;28;01mfor\u001b[39;00m page \u001b[38;5;129;01min\u001b[39;00m pages:\n\u001b[1;32m---> 10\u001b[0m     part1, part2 \u001b[38;5;241m=\u001b[39m \u001b[43msplit_page_into_two\u001b[49m\u001b[43m(\u001b[49m\u001b[43mpage\u001b[49m\u001b[43m)\u001b[49m\n\u001b[0;32m     11\u001b[0m     documents\u001b[38;5;241m.\u001b[39mappend(part1)\n\u001b[0;32m     12\u001b[0m     documents\u001b[38;5;241m.\u001b[39mappend(part2)\n",
      "Cell \u001b[1;32mIn[36], line 4\u001b[0m, in \u001b[0;36msplit_page_into_two\u001b[1;34m(page_content)\u001b[0m\n\u001b[0;32m      1\u001b[0m \u001b[38;5;28;01mdef\u001b[39;00m \u001b[38;5;21msplit_page_into_two\u001b[39m(page_content):\n\u001b[0;32m      2\u001b[0m     \u001b[38;5;66;03m# This is a simple split function, you might need to customize it\u001b[39;00m\n\u001b[0;32m      3\u001b[0m     \u001b[38;5;66;03m# based on the structure of your documents.\u001b[39;00m\n\u001b[1;32m----> 4\u001b[0m     midpoint \u001b[38;5;241m=\u001b[39m \u001b[38;5;28;43mlen\u001b[39;49m\u001b[43m(\u001b[49m\u001b[43mpage_content\u001b[49m\u001b[43m)\u001b[49m \u001b[38;5;241m/\u001b[39m\u001b[38;5;241m/\u001b[39m \u001b[38;5;241m2\u001b[39m\n\u001b[0;32m      5\u001b[0m     \u001b[38;5;28;01mreturn\u001b[39;00m page_content[:midpoint], page_content[midpoint:]\n",
      "\u001b[1;31mTypeError\u001b[0m: object of type 'Document' has no len()"
     ]
    }
   ],
   "source": [
    "def split_page_into_two(page_content):\n",
    "    # This is a simple split function, you might need to customize it\n",
    "    # based on the structure of your documents.\n",
    "    midpoint = len(page_content) // 2\n",
    "    return page_content[:midpoint], page_content[midpoint:]\n",
    "\n",
    "def create_documents_from_pages(pages):\n",
    "    documents = []\n",
    "    for page in pages:\n",
    "        part1, part2 = split_page_into_two(page)\n",
    "        documents.append(part1)\n",
    "        documents.append(part2)\n",
    "    return documents\n",
    "\n",
    "nembeddings = OpenAIEmbeddings()\n",
    "# Load and split pages\n",
    "npages = loader.load_and_split()\n",
    "\n",
    "# Create documents from pages\n",
    "ndocuments = create_documents_from_pages(npages)\n",
    "\n",
    "# Use these documents for creating embeddings and FAISS index\n",
    "ndb = FAISS.from_documents(ndocuments, nembeddings)"
   ]
  },
  {
   "cell_type": "code",
   "execution_count": null,
   "metadata": {},
   "outputs": [],
   "source": [
    "npages[0]"
   ]
  },
  {
   "cell_type": "code",
   "execution_count": null,
   "metadata": {},
   "outputs": [],
   "source": [
    "nquery = \"nightlife?\"\n",
    "ndocs = ndb.similarity_search(nquery)\n",
    "ndocs[1]"
   ]
  },
  {
   "cell_type": "code",
   "execution_count": 19,
   "metadata": {},
   "outputs": [],
   "source": [
    "# Get embedding model\n",
    "embeddings = OpenAIEmbeddings()\n",
    "\n",
    "# Create vector database\n",
    "db = FAISS.from_documents(pages, embeddings)"
   ]
  },
  {
   "cell_type": "code",
   "execution_count": 30,
   "metadata": {},
   "outputs": [
    {
     "data": {
      "text/plain": [
       "Document(page_content='THE ROME CITY  GUIDE 15\\n© Netplan - Internet solutions for tourismTHE ROME CITY  GUIDE 16\\n© Netplan - Internet solutions for tourismItalian and international artists all appear in \\nconcert.\\n \\n Sana a Roma , April\\nThis Mediterranean Trade Fair for Natural \\nProducts has been organized for a few \\nyears now at the Rome Trade Fair District. \\nExhibitions of bio-products, conferences and \\ntasting.\\n \\nEstate Romana , from June to September\\nThis includes all kinds of events, from \\nmusic to theater, literary meetings and \\ncinema. Events that take place in the most \\ncharacteristic places in Rome that attract the \\nparticipation of thousands of artists from all \\nover the world.\\n \\nDonna Sotto le Stelle , July\\nThe annual Roman appointment with high \\nfashion. Creations by the most famous \\nfashion designers are modeled on a catwalk \\nin a truly magnificent setting: on the Spanish \\nSteps in Piazza di Spagna .\\nMany international musical events are \\norganized in the new Rome Auditorium , a \\nkind of City of Music that is located near the \\nOlympic Village in the Flaminio area of the \\ncity. The Auditorium, that was designed by \\nthe famous architect Renzo Piano, comprises \\nthree large halls that hold a total of 5000 \\npeople, set amidst a park where a wonderful \\namphitheater has been built, together with \\nsome recording rooms.Rome is, together with Milan, the city where \\nmost cultural events such as exhibitions, \\nconcerts and shows take place in Italy. Our \\nguide to Rome  suggests a list of regular \\nevents that take place in the city each year. \\nKeep in mind the fact that if you want to plan \\na trip to Rome in a period when one of these \\nevents is taking place, you should book a hotel \\nin Rome  well in advance.\\n \\nRoma Europa Festival , September-October\\nThis has been an annual appointment since \\n1986 for modern art and theatre, music and \\ndance, with artists from all over Europe \\nappearing.\\n \\nFestival Romics , October\\nThe Comics and Cartoon Festival: exhibitions, \\ncartoon film showings and meeting with \\nthe most famous designers and publishing \\ncompanies.\\n \\nRoma Jazz Festival , October\\nThis annual festival totally dedicated to jazz \\nmusic was organized for the first time in 1876. Events\\nRome : fashion in Piazza di Spagna/ THINGS TO EXPERIENCE / THINGS TO EXPERIENCE\\nlovers. In Via della Pace, near to Piazza \\nNavona, there is the famous Antico Caffè \\ndella Pace, which has been a daytime and \\nnight-time meeting place for intellectuals, \\nartists and famous names for many years.\\nCampo de’ Fiori is one of the busiest places in \\nRome: in the morning it is full of the market \\nstalls and in the evening it is invaded by \\nhundreds of young people who meet up in \\nthe numerous wine bars and bars around the \\nsquare.\\nIf instead you are looking for real night clubs, \\nRome has no end of them. Here are few of the \\nmost popular: Gilda , loved by politicians and \\nshowbiz stars; Goa, electronic music and art \\nexhibitions, Ex magazzini  and Black out rock \\nclub for live music.\\nIf you walk along Via Veneto you realize \\nimmediately that today’s reality is far \\nremoved from the image the Fellini engraved \\nin everyone’s memory with his famous film \\n“La Dolce Vita”. Via Veneto is completely \\ndifferent to the glorious years of the 50s \\nand 60s. There are no longer actors or exiled \\nmonarchs sitting at the coffee shop tables, \\nbesieged by paparazzi. You may perhaps still \\nfind a few out-of-date tourists.\\nThe spirit of “la Dolce Vita” has moved with \\nthe times, no longer aimed at the bored, \\ndecadent aristocracy but to a large group of \\nmildly unconventional night people that want \\nto have a good time, communicate and relax.\\nThis is a self-gratifying and slightly \\nirresponsible attitude that has invaded the \\nnarrow streets of Trastevere . Trastevere is \\nan extremely lively area of town: walking \\nalong the labyrinth of alleys and lanes, among \\ncoffee shops, restaurants, pubs and clubs with \\nlive music, all brimming over with life is a \\nunique and exciting experience.', metadata={'source': 'C:\\\\Users\\\\diyar\\\\Desktop\\\\bil496\\\\webapp\\\\romePdf\\\\rome_guide.pdf', 'page': 10})"
      ]
     },
     "execution_count": 30,
     "metadata": {},
     "output_type": "execute_result"
    }
   ],
   "source": [
    "query = \"nightlife?\"\n",
    "docs = db.similarity_search(query)\n",
    "docs[1]"
   ]
  },
  {
   "cell_type": "code",
   "execution_count": 34,
   "metadata": {},
   "outputs": [
    {
     "data": {
      "text/plain": [
       "Document(page_content='THE ROME CITY  GUIDE 15\\n© Netplan - Internet solutions for tourismTHE ROME CITY  GUIDE 16\\n© Netplan - Internet solutions for tourismItalian and international artists all appear in \\nconcert.\\n \\n Sana a Roma , April\\nThis Mediterranean Trade Fair for Natural \\nProducts has been organized for a few \\nyears now at the Rome Trade Fair District. \\nExhibitions of bio-products, conferences and \\ntasting.\\n \\nEstate Romana , from June to September\\nThis includes all kinds of events, from \\nmusic to theater, literary meetings and \\ncinema. Events that take place in the most \\ncharacteristic places in Rome that attract the \\nparticipation of thousands of artists from all \\nover the world.\\n \\nDonna Sotto le Stelle , July\\nThe annual Roman appointment with high \\nfashion. Creations by the most famous \\nfashion designers are modeled on a catwalk \\nin a truly magnificent setting: on the Spanish \\nSteps in Piazza di Spagna .\\nMany international musical events are \\norganized in the new Rome Auditorium , a \\nkind of City of Music that is located near the \\nOlympic Village in the Flaminio area of the \\ncity. The Auditorium, that was designed by \\nthe famous architect Renzo Piano, comprises \\nthree large halls that hold a total of 5000 \\npeople, set amidst a park where a wonderful \\namphitheater has been built, together with \\nsome recording rooms.Rome is, together with Milan, the city where \\nmost cultural events such as exhibitions, \\nconcerts and shows take place in Italy. Our \\nguide to Rome  suggests a list of regular \\nevents that take place in the city each year. \\nKeep in mind the fact that if you want to plan \\na trip to Rome in a period when one of these \\nevents is taking place, you should book a hotel \\nin Rome  well in advance.\\n \\nRoma Europa Festival , September-October\\nThis has been an annual appointment since \\n1986 for modern art and theatre, music and \\ndance, with artists from all over Europe \\nappearing.\\n \\nFestival Romics , October\\nThe Comics and Cartoon Festival: exhibitions, \\ncartoon film showings and meeting with \\nthe most famous designers and publishing \\ncompanies.\\n \\nRoma Jazz Festival , October\\nThis annual festival totally dedicated to jazz \\nmusic was organized for the first time in 1876. Events\\nRome : fashion in Piazza di Spagna/ THINGS TO EXPERIENCE / THINGS TO EXPERIENCE\\nlovers. In Via della Pace, near to Piazza \\nNavona, there is the famous Antico Caffè \\ndella Pace, which has been a daytime and \\nnight-time meeting place for intellectuals, \\nartists and famous names for many years.\\nCampo de’ Fiori is one of the busiest places in \\nRome: in the morning it is full of the market \\nstalls and in the evening it is invaded by \\nhundreds of young people who meet up in \\nthe numerous wine bars and bars around the \\nsquare.\\nIf instead you are looking for real night clubs, \\nRome has no end of them. Here are few of the \\nmost popular: Gilda , loved by politicians and \\nshowbiz stars; Goa, electronic music and art \\nexhibitions, Ex magazzini  and Black out rock \\nclub for live music.\\nIf you walk along Via Veneto you realize \\nimmediately that today’s reality is far \\nremoved from the image the Fellini engraved \\nin everyone’s memory with his famous film \\n“La Dolce Vita”. Via Veneto is completely \\ndifferent to the glorious years of the 50s \\nand 60s. There are no longer actors or exiled \\nmonarchs sitting at the coffee shop tables, \\nbesieged by paparazzi. You may perhaps still \\nfind a few out-of-date tourists.\\nThe spirit of “la Dolce Vita” has moved with \\nthe times, no longer aimed at the bored, \\ndecadent aristocracy but to a large group of \\nmildly unconventional night people that want \\nto have a good time, communicate and relax.\\nThis is a self-gratifying and slightly \\nirresponsible attitude that has invaded the \\nnarrow streets of Trastevere . Trastevere is \\nan extremely lively area of town: walking \\nalong the labyrinth of alleys and lanes, among \\ncoffee shops, restaurants, pubs and clubs with \\nlive music, all brimming over with life is a \\nunique and exciting experience.', metadata={'source': 'C:\\\\Users\\\\diyar\\\\Desktop\\\\bil496\\\\webapp\\\\romePdf\\\\rome_guide.pdf', 'page': 10})"
      ]
     },
     "execution_count": 34,
     "metadata": {},
     "output_type": "execute_result"
    }
   ],
   "source": [
    "docs[1]"
   ]
  }
 ],
 "metadata": {
  "kernelspec": {
   "display_name": "Python 3",
   "language": "python",
   "name": "python3"
  },
  "language_info": {
   "codemirror_mode": {
    "name": "ipython",
    "version": 3
   },
   "file_extension": ".py",
   "mimetype": "text/x-python",
   "name": "python",
   "nbconvert_exporter": "python",
   "pygments_lexer": "ipython3",
   "version": "3.10.5"
  }
 },
 "nbformat": 4,
 "nbformat_minor": 2
}
