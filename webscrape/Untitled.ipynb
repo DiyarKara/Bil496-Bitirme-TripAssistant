{
 "cells": [
  {
   "cell_type": "code",
   "execution_count": 1,
   "id": "3ba092d0",
   "metadata": {},
   "outputs": [],
   "source": [
    "import requests\n",
    "import time\n",
    "from bs4 import BeautifulSoup"
   ]
  },
  {
   "cell_type": "code",
   "execution_count": null,
   "id": "4553f64d",
   "metadata": {},
   "outputs": [],
   "source": [
    "\n",
    "# Web sayfasının URL'si\n",
    "url = 'https://www.tripadvisor.com.tr/Attractions-g293916-Activities-c26-t142-Bangkok.html'"
   ]
  },
  {
   "cell_type": "code",
   "execution_count": null,
   "id": "36ef6968",
   "metadata": {},
   "outputs": [],
   "source": [
    "# Sayfanın içeriğini çekmek için requests kullanılır\n",
    "#response = requests.get(url)\n",
    "response = requests.get(url, headers={'User-Agent': \"Mozilla/5.0\"})"
   ]
  },
  {
   "cell_type": "code",
   "execution_count": null,
   "id": "88f1f1d5",
   "metadata": {},
   "outputs": [],
   "source": [
    "# BeautifulSoup ile HTML içeriğini ayrıştırın\n",
    "soup = BeautifulSoup(response.content, 'html.parser')"
   ]
  },
  {
   "cell_type": "code",
   "execution_count": null,
   "id": "91996497",
   "metadata": {},
   "outputs": [],
   "source": [
    "# İlgili verileri içeren HTML etiketleri ve sınıflarını bulun\n",
    "# Örnek: 'div' etiketi ve 'XfVdV o AIbhI' sınıfı\n",
    "elements = soup.find_all('div', class_='XfVdV o AIbhI')"
   ]
  },
  {
   "cell_type": "code",
   "execution_count": null,
   "id": "555f18a4",
   "metadata": {},
   "outputs": [],
   "source": [
    "# Bulunan her bir element üzerinden isimleri çekin\n",
    "for element in elements:\n",
    "    # İsimleri içeren kısmı çekmek için span etiketi içindeki metni alma\n",
    "    name = element.get_text(strip=True)\n",
    "    print(name)"
   ]
  },
  {
   "cell_type": "code",
   "execution_count": null,
   "id": "1f328c77",
   "metadata": {},
   "outputs": [],
   "source": [
    "name_elements = soup.find_all('div', class_='XfVdV o AIbhI')"
   ]
  },
  {
   "cell_type": "code",
   "execution_count": null,
   "id": "964000a1",
   "metadata": {},
   "outputs": [],
   "source": [
    "rating_elements = soup.find_all('div', class_='jVDab o W f u w JqMhy')"
   ]
  },
  {
   "cell_type": "code",
   "execution_count": null,
   "id": "df328ca5",
   "metadata": {},
   "outputs": [],
   "source": [
    "what_is_it = soup.find_all('div', class_='biGQs _P pZUbB hmDzD')"
   ]
  },
  {
   "cell_type": "code",
   "execution_count": null,
   "id": "3c44844f",
   "metadata": {},
   "outputs": [],
   "source": [
    "for i in range(len(name_elements)):\n",
    "    name = name_elements[i].get_text(strip=True)\n",
    "    whatisit = what_is_it[i].get_text(strip=True)\n",
    "    # İlgili puan bilgisinin bulunması ve çıkarılması\n",
    "    rating_svg = rating_elements[i].find('svg')\n",
    "    rating_text = rating_svg.get('aria-label') if rating_svg else 'Rating bilgisi bulunamadı'\n",
    "    \n",
    "    # Puan sayısının çıkarılması\n",
    "    rating_number = rating_elements[i].find('span', class_='biGQs _P pZUbB osNWb').get_text(strip=True)\n",
    "    print(whatisit,\" and \",rating_number ,\" and \" , rating_text)\n",
    "    "
   ]
  },
  {
   "cell_type": "code",
   "execution_count": 2,
   "id": "ec7121ac",
   "metadata": {},
   "outputs": [
    {
     "name": "stdout",
     "output_type": "stream",
     "text": [
      "403\n",
      "200\n",
      "200\n"
     ]
    }
   ],
   "source": [
    "namelist = []\n",
    "for i in range(3):\n",
    "    if i == 0:\n",
    "        # change this when u gona do it\n",
    "        url = 'https://www.tripadvisor.com.tr/Attractions-g293916-Activities-zft11154-Bangkok.html'\n",
    "    else:\n",
    "        url = 'https://www.tripadvisor.com.tr/Attractions-g293916-Activities-oa'+str(i*30)+'-zft11154-Bangkok.html'\n",
    "        #url = 'https://www.tripadvisor.com.tr/Attractions-g293916-Activities-c26-t142-oa'+str(i*30)+'-Bangkok.html'\n",
    "    response = requests.get(url, headers={'User-Agent': \"Mozilla/5.0\"})\n",
    "    print(response.status_code)\n",
    "    soup = BeautifulSoup(response.content, 'html.parser')\n",
    "    elements = soup.find_all('div', class_='XfVdV o AIbhI')\n",
    "    for element in elements:\n",
    "        # İsimleri içeren kısmı çekmek için span etiketi içindeki metni alma\n",
    "        name = element.get_text(strip=True)\n",
    "        namelist.append(name)\n",
    "    time.sleep(2)"
   ]
  },
  {
   "cell_type": "code",
   "execution_count": null,
   "id": "e02f913f",
   "metadata": {},
   "outputs": [],
   "source": [
    "namelist"
   ]
  },
  {
   "cell_type": "code",
   "execution_count": 5,
   "id": "b9cdcc71",
   "metadata": {},
   "outputs": [
    {
     "name": "stdout",
     "output_type": "stream",
     "text": [
      "403 Forbidden hatası alındı. 1. yeniden deneme yapılıyor.\n",
      "403 Forbidden hatası alındı. 2. yeniden deneme yapılıyor.\n",
      "403 Forbidden hatası alındı. 1. yeniden deneme yapılıyor.\n",
      "403 Forbidden hatası alındı. 2. yeniden deneme yapılıyor.\n",
      "403 Forbidden hatası alındı. 1. yeniden deneme yapılıyor.\n",
      "403 Forbidden hatası alındı. 2. yeniden deneme yapılıyor.\n"
     ]
    }
   ],
   "source": [
    "namelist = []\n",
    "for i in range(3):\n",
    "    if i == 0:\n",
    "        url = 'https://www.tripadvisor.com.tr/Attractions-g293916-Activities-zft11154-Bangkok.html'\n",
    "    else:\n",
    "        url = 'https://www.tripadvisor.com.tr/Attractions-g293916-Activities-oa'+str(i*30)+'-zft11154-Bangkok.html'\n",
    "\n",
    "    attempt_count = 0\n",
    "    max_attempts = 10\n",
    "    while attempt_count < max_attempts:\n",
    "        try:\n",
    "            response = requests.get(url, headers={'User-Agent': \"Mozilla/5.0\"})\n",
    "            if response.status_code == 200:\n",
    "                soup = BeautifulSoup(response.content, 'html.parser')\n",
    "                elements = soup.find_all('div', class_='XfVdV o AIbhI')\n",
    "                for element in elements:\n",
    "                    name = element.get_text(strip=True)\n",
    "                    namelist.append(name)\n",
    "                break  # Başarılı olduğunda döngüyü kır\n",
    "            elif response.status_code == 403:\n",
    "                print(f\"403 Forbidden hatası alındı. {attempt_count + 1}. yeniden deneme yapılıyor.\")\n",
    "                time.sleep(15)  # 10 saniye bekleyip yeniden deneyin\n",
    "                attempt_count += 1\n",
    "            else:\n",
    "                print(f\"Beklenmeyen hata: {response.status_code}\")\n",
    "                break\n",
    "        except Exception as e:\n",
    "            print(f\"Bir hata oluştu: {e}\")\n",
    "            break\n",
    "\n",
    "    # Her sayfa yüklemesi arasında kısa bir bekleme süresi\n",
    "    time.sleep(5)"
   ]
  },
  {
   "cell_type": "code",
   "execution_count": 6,
   "id": "161791a9",
   "metadata": {},
   "outputs": [
    {
     "data": {
      "text/plain": [
       "['1.Chatuchak Weekend Market',\n",
       " '2.Pak Khlong Talat (Flower Market)',\n",
       " '3.Khlong Lat Mayom Floating Market',\n",
       " '4.Pratunam Market',\n",
       " '5.Chatuchak Flower Market',\n",
       " '6.Train Night Market',\n",
       " '7.Train Night Market Ratchada',\n",
       " '8.Khlong Toei Market',\n",
       " '9.Taling Chan Floating Market',\n",
       " '10.Soi Rambuttri',\n",
       " '11.Patpong Night Market',\n",
       " '12.Wang Lang Market',\n",
       " '13.W Market',\n",
       " '14.Tha Maharaj',\n",
       " '15.Phahurat Market',\n",
       " '16.Sukhumvit Soi 38 Night Food Market',\n",
       " '17.Amulet Market',\n",
       " '18.Jodd Fairs',\n",
       " '19.Bangrak Bazaar',\n",
       " '20.Liab Duan Night Market',\n",
       " '21.Huai Khwang Night Market',\n",
       " '22.Rod Fai Night Market 2',\n",
       " '23.็Huamum Night Market',\n",
       " '24.Khlong Lat Mayom',\n",
       " '25.Sukhumvit Road Street market',\n",
       " '26.Indy Market',\n",
       " '27.Kwan-Riam Floating Market',\n",
       " '28.Chang Chui Plane Market',\n",
       " '29.Suvarnabhumi Outdoor Market',\n",
       " '30.Silom Night Market',\n",
       " '31.ChangChui Creative Park',\n",
       " '32.Ta Prachan market',\n",
       " '33.Jodd Fairs DanNeramit',\n",
       " '34.Food Villa Ratchaphruek',\n",
       " '35.Talad Neon',\n",
       " '36.Bon Marche Market Park',\n",
       " '37.Lumpini Park Food Stalls',\n",
       " '38.Khlong Bang Luang Floating Market',\n",
       " '39.Ruam Sab Market',\n",
       " '40.The Camp - Vintage Flea Market',\n",
       " '41.Thonburi Market - Sanam Luang 2',\n",
       " '42.TGIF Market',\n",
       " '43.Siam Square',\n",
       " '44.Wat Sai Floating Market',\n",
       " '45.Ying Charoen Market',\n",
       " '46.Heera Thai Massage & Aromatherapy',\n",
       " '47.Lalai Sap Market',\n",
       " '48.Tawanna Market',\n",
       " '49.Gourmet Market Terminal 21',\n",
       " '50.Ramkhamhaeng University Night Market',\n",
       " '51.Guate Leather bags shop',\n",
       " '52.Talat Nam Song Khlong Wat Talingchan',\n",
       " '53.Chatuchak Night Plant Market',\n",
       " '54.Bangsue Junction Shopping Center',\n",
       " '55.Venice Di Iris',\n",
       " '56.Sai Tai Center, Sai Tai Mai',\n",
       " '57.Oasis Outdoor Arena and Creative Market',\n",
       " '58.Saphan Phut (Memorial Bridge) Night Market',\n",
       " '59.Trok Mor Morning Market',\n",
       " '60.Khlong Phadung Krung Kasem Floating Market',\n",
       " '61.Din Daeng Market',\n",
       " '62.Thai Airways Market',\n",
       " '63.TGIF Market @ Central Plaza Lardprao',\n",
       " '64.Chatujak weekend Market',\n",
       " '65.Minburi Market',\n",
       " '66.Mahanak Market',\n",
       " '67.Runway3119',\n",
       " '68.Ratchawat Market',\n",
       " '69.Thonburi Market Place',\n",
       " '70.Southern Market (Klong Lord2)',\n",
       " '71.Chaengmarket',\n",
       " '72.Old Market',\n",
       " '73.Tanommit Market',\n",
       " '74.Khlong Ong Ang Night Bazar',\n",
       " \"75.One O'One Market\",\n",
       " '76.Suan Lum Night Bazaar',\n",
       " '77.Palladium Night Market',\n",
       " '78.Maneejun massage',\n",
       " '79.J J Thai Food',\n",
       " '80.Trok Sake',\n",
       " '81.SONITE DÉCOR',\n",
       " '82.Bangkapi Local Market']"
      ]
     },
     "execution_count": 6,
     "metadata": {},
     "output_type": "execute_result"
    }
   ],
   "source": [
    "namelist"
   ]
  },
  {
   "cell_type": "code",
   "execution_count": null,
   "id": "062754d7",
   "metadata": {},
   "outputs": [],
   "source": [
    "ratecount = []\n",
    "for i in range(3):\n",
    "    time.sleep(3)\n",
    "    if i == 0:\n",
    "        print(\"in if\")\n",
    "        # change this when u gona do it\n",
    "        url = 'https://www.tripadvisor.com.tr/Attractions-g293916-Activities-zft11154-Bangkok.html'\n",
    "    else:\n",
    "        print(\"in else\")\n",
    "        url = 'https://www.tripadvisor.com.tr/Attractions-g293916-Activities-oa'+str(i*30)+'-zft11154-Bangkok.html'\n",
    "    print(url)    \n",
    "    response = requests.get(url, headers={'User-Agent': \"Mozilla/5.0\"})\n",
    "    soup = BeautifulSoup(response.content, 'html.parser')\n",
    "    name_elements = soup.find_all('div', class_='XfVdV o AIbhI')\n",
    "    rating_elements = soup.find_all('div', class_='jVDab o W f u w JqMhy')\n",
    "    print(\"before for\")\n",
    "    print(\"name element count\", len(name_elements))\n",
    "    for j in range(len(name_elements)):\n",
    "        print(i)\n",
    "        rating_svg = rating_elements[j].find('svg')\n",
    "        rating_text = rating_svg.get('aria-label') if rating_svg else 'Rating bilgisi bulunamadı'\n",
    "        ratecount.append(rating_text)"
   ]
  },
  {
   "cell_type": "code",
   "execution_count": null,
   "id": "945764ee",
   "metadata": {},
   "outputs": [],
   "source": [
    "print(ratecount)\n",
    "print(len(ratecount))"
   ]
  },
  {
   "cell_type": "code",
   "execution_count": 7,
   "id": "a45c91d3",
   "metadata": {},
   "outputs": [
    {
     "name": "stdout",
     "output_type": "stream",
     "text": [
      "403 Forbidden hatası alındı. 1. yeniden deneme yapılıyor.\n",
      "Bir hata oluştu: list index out of range\n"
     ]
    },
    {
     "ename": "KeyboardInterrupt",
     "evalue": "",
     "output_type": "error",
     "traceback": [
      "\u001b[1;31m---------------------------------------------------------------------------\u001b[0m",
      "\u001b[1;31mKeyboardInterrupt\u001b[0m                         Traceback (most recent call last)",
      "Cell \u001b[1;32mIn[7], line 35\u001b[0m\n\u001b[0;32m     32\u001b[0m         \u001b[38;5;28mprint\u001b[39m(\u001b[38;5;124mf\u001b[39m\u001b[38;5;124m\"\u001b[39m\u001b[38;5;124mBir hata oluştu: \u001b[39m\u001b[38;5;132;01m{\u001b[39;00me\u001b[38;5;132;01m}\u001b[39;00m\u001b[38;5;124m\"\u001b[39m)\n\u001b[0;32m     33\u001b[0m         \u001b[38;5;28;01mbreak\u001b[39;00m\n\u001b[1;32m---> 35\u001b[0m \u001b[43mtime\u001b[49m\u001b[38;5;241;43m.\u001b[39;49m\u001b[43msleep\u001b[49m\u001b[43m(\u001b[49m\u001b[38;5;241;43m5\u001b[39;49m\u001b[43m)\u001b[49m  \u001b[38;5;66;03m# Her sayfa yüklemesi arasında kısa bir bekleme süresi\u001b[39;00m\n",
      "\u001b[1;31mKeyboardInterrupt\u001b[0m: "
     ]
    }
   ],
   "source": [
    "ratecount = []\n",
    "max_attempts = 10\n",
    "\n",
    "for i in range(3):\n",
    "    if i == 0:\n",
    "        url = 'https://www.tripadvisor.com.tr/Attractions-g293916-Activities-zft11154-Bangkok.html'\n",
    "    else:\n",
    "        url = 'https://www.tripadvisor.com.tr/Attractions-g293916-Activities-oa'+str(i*30)+'-zft11154-Bangkok.html'\n",
    "\n",
    "    attempt_count = 0\n",
    "    while attempt_count < max_attempts:\n",
    "        try:\n",
    "            response = requests.get(url, headers={'User-Agent': \"Mozilla/5.0\"})\n",
    "            if response.status_code == 200:\n",
    "                soup = BeautifulSoup(response.content, 'html.parser')\n",
    "                name_elements = soup.find_all('div', class_='XfVdV o AIbhI')\n",
    "                rating_elements = soup.find_all('div', class_='jVDab o W f u w JqMhy')\n",
    "\n",
    "                for j in range(len(name_elements)):\n",
    "                    rating_svg = rating_elements[j].find('svg')\n",
    "                    rating_text = rating_svg.get('aria-label') if rating_svg else 'Rating bilgisi bulunamadı'\n",
    "                    ratecount.append(rating_text)\n",
    "                break  # Başarılı olduğunda döngüyü kır\n",
    "            elif response.status_code == 403:\n",
    "                print(f\"403 Forbidden hatası alındı. {attempt_count + 1}. yeniden deneme yapılıyor.\")\n",
    "                time.sleep(15)  # 10 saniye bekleyip yeniden deneyin\n",
    "                attempt_count += 1\n",
    "            else:\n",
    "                print(f\"Beklenmeyen hata: {response.status_code}\")\n",
    "                break\n",
    "        except Exception as e:\n",
    "            print(f\"Bir hata oluştu: {e}\")\n",
    "            break\n",
    "\n",
    "    time.sleep(5)  # Her sayfa yüklemesi arasında kısa bir bekleme süresi\n",
    "\n",
    "\n",
    "    "
   ]
  },
  {
   "cell_type": "code",
   "execution_count": null,
   "id": "5512298c",
   "metadata": {},
   "outputs": [],
   "source": [
    "print(ratecount)\n",
    "print(len(ratecount))"
   ]
  },
  {
   "cell_type": "code",
   "execution_count": 2,
   "id": "6aada544",
   "metadata": {},
   "outputs": [
    {
     "name": "stdout",
     "output_type": "stream",
     "text": [
      "403 Forbidden hatası alındı. 1. yeniden deneme yapılıyor.\n",
      "403 Forbidden hatası alındı. 1. yeniden deneme yapılıyor.\n"
     ]
    }
   ],
   "source": [
    "ratecount = []\n",
    "rates = []\n",
    "max_attempts = 10\n",
    "\n",
    "for i in range(3):\n",
    "    if i == 0:\n",
    "        url = 'https://www.tripadvisor.com.tr/Attractions-g293916-Activities-zft11154-Bangkok.html'\n",
    "    else:\n",
    "        url = 'https://www.tripadvisor.com.tr/Attractions-g293916-Activities-oa' + str(i*30) + '-zft11154-Bangkok.html'\n",
    "\n",
    "    attempt_count = 0\n",
    "    while attempt_count < max_attempts:\n",
    "        try:\n",
    "            response = requests.get(url, headers={'User-Agent': \"Mozilla/5.0\"})\n",
    "            if response.status_code == 200:\n",
    "                soup = BeautifulSoup(response.content, 'html.parser')\n",
    "                name_elements = soup.find_all('div', class_='XfVdV o AIbhI')\n",
    "                rating_elements = soup.find_all('div', class_='jVDab o W f u w JqMhy')\n",
    "\n",
    "                for j in range(min(len(name_elements), len(rating_elements))):\n",
    "                    rating_svg = rating_elements[j].find('svg')\n",
    "                    rating_text = rating_svg.get('aria-label') if rating_svg else 'Rating bilgisi bulunamadı'\n",
    "                    rating_number = rating_elements[j].find('span', class_='biGQs _P pZUbB osNWb').get_text(strip=True)\n",
    "                    rates.append(rating_number)\n",
    "                    ratecount.append(rating_text)\n",
    "                break  # Başarılı olduğunda döngüyü kır\n",
    "            elif response.status_code == 403:\n",
    "                print(f\"403 Forbidden hatası alındı. {attempt_count + 1}. yeniden deneme yapılıyor.\")\n",
    "                time.sleep(15)  # 10 saniye bekleyip yeniden deneyin\n",
    "                attempt_count += 1\n",
    "            else:\n",
    "                print(f\"Beklenmeyen hata: {response.status_code}\")\n",
    "                break\n",
    "        except Exception as e:\n",
    "            print(f\"Bir hata oluştu: {e}\")\n",
    "            break\n",
    "\n",
    "    time.sleep(5) "
   ]
  },
  {
   "cell_type": "code",
   "execution_count": null,
   "id": "8b3c5389",
   "metadata": {},
   "outputs": [],
   "source": [
    "ratecount = []\n",
    "rates = []\n",
    "max_attempts = 10\n",
    "\n",
    "for i in range(3):\n",
    "    if i == 0:\n",
    "        url = 'https://www.tripadvisor.com.tr/Attractions-g293916-Activities-zft11154-Bangkok.html'\n",
    "    else:\n",
    "        url = 'https://www.tripadvisor.com.tr/Attractions-g293916-Activities-oa' + str(i*30) + '-zft11154-Bangkok.html'\n",
    "\n",
    "    attempt_count = 0\n",
    "    while attempt_count < max_attempts:\n",
    "        try:\n",
    "            response = requests.get(url, headers={'User-Agent': \"Mozilla/5.0\"})\n",
    "            if response.status_code == 200:\n",
    "                soup = BeautifulSoup(response.content, 'html.parser')\n",
    "                name_elements = soup.find_all('div', class_='XfVdV o AIbhI')\n",
    "                rating_elements = soup.find_all('div', class_='jVDab o W f u w JqMhy')\n",
    "\n",
    "                for j in range(min(len(name_elements), len(rating_elements))):\n",
    "                    rating_svg = rating_elements[j].find('svg')\n",
    "                    if rating_svg:\n",
    "                        rating_text = rating_svg.get('aria-label')\n",
    "                        if rating_text:\n",
    "                        # '\\xa0' karakterinden sonrasını almak için split ve son elemanı seçmek\n",
    "                        rating_text = rating_text.split('\\xa0')[-1]\n",
    "                    else:\n",
    "                        rating_text = 'Rating bilgisi bulunamadı'\n",
    "    \n",
    "                    rating_number = rating_elements[j].find('span', class_='biGQs _P pZUbB osNWb').get_text(strip=True)\n",
    "                    rates.append(rating_number)\n",
    "                    ratecount.append(rating_text)\n",
    "                break  # Başarılı olduğunda döngüyü kır\n",
    "            elif response.status_code == 403:\n",
    "                print(f\"403 Forbidden hatası alındı. {attempt_count + 1}. yeniden deneme yapılıyor.\")\n",
    "                time.sleep(15)  # 10 saniye bekleyip yeniden deneyin\n",
    "                attempt_count += 1\n",
    "            else:\n",
    "                print(f\"Beklenmeyen hata: {response.status_code}\")\n",
    "                break\n",
    "        except Exception as e:\n",
    "            print(f\"Bir hata oluştu: {e}\")\n",
    "            break\n",
    "\n",
    "    time.sleep(5) "
   ]
  },
  {
   "cell_type": "code",
   "execution_count": 3,
   "id": "44c61c8c",
   "metadata": {},
   "outputs": [
    {
     "name": "stdout",
     "output_type": "stream",
     "text": [
      "['5 baloncuk üzerinden\\xa04,5', '5 baloncuk üzerinden\\xa04,0', '5 baloncuk üzerinden\\xa04,5', '5 baloncuk üzerinden\\xa04,0', '5 baloncuk üzerinden\\xa04,5', '5 baloncuk üzerinden\\xa04,5', '5 baloncuk üzerinden\\xa04,0', '5 baloncuk üzerinden\\xa04,5', '5 baloncuk üzerinden\\xa03,5', '5 baloncuk üzerinden\\xa04,5', '5 baloncuk üzerinden\\xa03,0', '5 baloncuk üzerinden\\xa04,0', '5 baloncuk üzerinden\\xa04,0', '5 baloncuk üzerinden\\xa04,0', '5 baloncuk üzerinden\\xa04,0', '5 baloncuk üzerinden\\xa04,0', '5 baloncuk üzerinden\\xa04,0', '5 baloncuk üzerinden\\xa04,0', '5 baloncuk üzerinden\\xa04,5', '5 baloncuk üzerinden\\xa04,0', '5 baloncuk üzerinden\\xa04,0', '5 baloncuk üzerinden\\xa04,0', '5 baloncuk üzerinden\\xa04,0', '5 baloncuk üzerinden\\xa04,5', '5 baloncuk üzerinden\\xa03,5', '5 baloncuk üzerinden\\xa04,0', '5 baloncuk üzerinden\\xa04,0', '5 baloncuk üzerinden\\xa04,5', '5 baloncuk üzerinden\\xa04,0', '5 baloncuk üzerinden\\xa03,5', '5 baloncuk üzerinden\\xa04,0', '5 baloncuk üzerinden\\xa04,0', '5 baloncuk üzerinden\\xa05,0', '5 baloncuk üzerinden\\xa04,5', '5 baloncuk üzerinden\\xa03,5', '5 baloncuk üzerinden\\xa04,0', '5 baloncuk üzerinden\\xa03,5', '5 baloncuk üzerinden\\xa03,5', '5 baloncuk üzerinden\\xa05,0', '5 baloncuk üzerinden\\xa04,0', '5 baloncuk üzerinden\\xa04,0', '5 baloncuk üzerinden\\xa05,0', '5 baloncuk üzerinden\\xa04,0', '5 baloncuk üzerinden\\xa03,0', '5 baloncuk üzerinden\\xa04,0', '5 baloncuk üzerinden\\xa04,5', '5 baloncuk üzerinden\\xa04,0', '5 baloncuk üzerinden\\xa04,0', '5 baloncuk üzerinden\\xa04,5', '5 baloncuk üzerinden\\xa04,0', '5 baloncuk üzerinden\\xa05,0', '5 baloncuk üzerinden\\xa05,0', '5 baloncuk üzerinden\\xa04,0', '5 baloncuk üzerinden\\xa04,0', '5 baloncuk üzerinden\\xa03,0', '5 baloncuk üzerinden\\xa04,0', '5 baloncuk üzerinden\\xa05,0', '5 baloncuk üzerinden\\xa03,0', '5 baloncuk üzerinden\\xa04,0', '5 baloncuk üzerinden\\xa03,0', '5 baloncuk üzerinden\\xa03,0', '5 baloncuk üzerinden\\xa04,0', '5 baloncuk üzerinden\\xa04,0', '5 baloncuk üzerinden\\xa05,0', '5 baloncuk üzerinden\\xa03,0', '5 baloncuk üzerinden\\xa04,0', '5 baloncuk üzerinden\\xa02,5', '5 baloncuk üzerinden\\xa02,5', '5 baloncuk üzerinden\\xa04,0', '5 baloncuk üzerinden\\xa04,0', '5 baloncuk üzerinden\\xa03,0', '5 baloncuk üzerinden\\xa02,0']\n",
      "['18.089', '1.001', '562', '1.460', '1.295', '989', '1.263', '245', '1.373', '143', '2.818', '163', '158', '226', '179', '480', '107', '107', '101', '74', '96', '167', '58', '52', '156', '31', '159', '14', '30', '359', '102', '28', '7', '14', '119', '32', '26', '27', '3', '14', '9', '5', '743', '155', '12', '7', '9', '9', '4', '34', '2', '2', '3', '1', '8', '1', '1', '8', '1', '9', '5', '1', '1', '1', '1', '1', '4', '3', '1', '1', '1', '45']\n",
      "72\n"
     ]
    }
   ],
   "source": [
    "print(ratecount)\n",
    "print(rates)\n",
    "print(len(ratecount))"
   ]
  },
  {
   "cell_type": "code",
   "execution_count": null,
   "id": "4f0ef66f",
   "metadata": {},
   "outputs": [],
   "source": []
  }
 ],
 "metadata": {
  "kernelspec": {
   "display_name": "Python 3 (ipykernel)",
   "language": "python",
   "name": "python3"
  },
  "language_info": {
   "codemirror_mode": {
    "name": "ipython",
    "version": 3
   },
   "file_extension": ".py",
   "mimetype": "text/x-python",
   "name": "python",
   "nbconvert_exporter": "python",
   "pygments_lexer": "ipython3",
   "version": "3.10.5"
  }
 },
 "nbformat": 4,
 "nbformat_minor": 5
}
