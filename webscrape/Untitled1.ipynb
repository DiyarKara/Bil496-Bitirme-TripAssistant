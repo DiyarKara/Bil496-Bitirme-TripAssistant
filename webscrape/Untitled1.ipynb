{
 "cells": [
  {
   "cell_type": "code",
   "execution_count": 3,
   "id": "d709e3b8",
   "metadata": {},
   "outputs": [
    {
     "ename": "KeyError",
     "evalue": "'wikidata'",
     "output_type": "error",
     "traceback": [
      "\u001b[1;31m---------------------------------------------------------------------------\u001b[0m",
      "\u001b[1;31mKeyError\u001b[0m                                  Traceback (most recent call last)",
      "Cell \u001b[1;32mIn[3], line 25\u001b[0m\n\u001b[0;32m     23\u001b[0m name \u001b[38;5;241m=\u001b[39m item[\u001b[38;5;124m'\u001b[39m\u001b[38;5;124mproperties\u001b[39m\u001b[38;5;124m'\u001b[39m][\u001b[38;5;124m'\u001b[39m\u001b[38;5;124mname\u001b[39m\u001b[38;5;124m'\u001b[39m]\n\u001b[0;32m     24\u001b[0m kinds \u001b[38;5;241m=\u001b[39m item[\u001b[38;5;124m'\u001b[39m\u001b[38;5;124mproperties\u001b[39m\u001b[38;5;124m'\u001b[39m][\u001b[38;5;124m'\u001b[39m\u001b[38;5;124mkinds\u001b[39m\u001b[38;5;124m'\u001b[39m]\n\u001b[1;32m---> 25\u001b[0m wikidata \u001b[38;5;241m=\u001b[39m \u001b[43mitem\u001b[49m\u001b[43m[\u001b[49m\u001b[38;5;124;43m'\u001b[39;49m\u001b[38;5;124;43mproperties\u001b[39;49m\u001b[38;5;124;43m'\u001b[39;49m\u001b[43m]\u001b[49m\u001b[43m[\u001b[49m\u001b[38;5;124;43m'\u001b[39;49m\u001b[38;5;124;43mwikidata\u001b[39;49m\u001b[38;5;124;43m'\u001b[39;49m\u001b[43m]\u001b[49m\n\u001b[0;32m     26\u001b[0m rate \u001b[38;5;241m=\u001b[39m item[\u001b[38;5;124m'\u001b[39m\u001b[38;5;124mproperties\u001b[39m\u001b[38;5;124m'\u001b[39m][\u001b[38;5;124m'\u001b[39m\u001b[38;5;124mrate\u001b[39m\u001b[38;5;124m'\u001b[39m]\n\u001b[0;32m     27\u001b[0m file\u001b[38;5;241m.\u001b[39mwrite(\u001b[38;5;124mf\u001b[39m\u001b[38;5;124m\"\u001b[39m\u001b[38;5;124mName: \u001b[39m\u001b[38;5;132;01m{\u001b[39;00mname\u001b[38;5;132;01m}\u001b[39;00m\u001b[38;5;124m, Kinds: \u001b[39m\u001b[38;5;132;01m{\u001b[39;00mkinds\u001b[38;5;132;01m}\u001b[39;00m\u001b[38;5;124m, Wikidata: \u001b[39m\u001b[38;5;132;01m{\u001b[39;00mwikidata\u001b[38;5;132;01m}\u001b[39;00m\u001b[38;5;124m, Rate: \u001b[39m\u001b[38;5;132;01m{\u001b[39;00mrate\u001b[38;5;132;01m}\u001b[39;00m\u001b[38;5;130;01m\\n\u001b[39;00m\u001b[38;5;124m\"\u001b[39m)\n",
      "\u001b[1;31mKeyError\u001b[0m: 'wikidata'"
     ]
    }
   ],
   "source": [
    "import requests\n",
    "\n",
    "# OpenTripMap API endpoint ve API anahtarınız\n",
    "api_url = 'https://api.opentripmap.com/0.1/en/places/bbox'\n",
    "api_key = '5ae2e3f221c38a28845f05b6a00f3bdd182bf9b082fdb2f95e992380'  # API anahtarınızı buraya girin\n",
    "\n",
    "# İstek yapılacak coğrafi alanın sınırları (örnek olarak belirli bir bölge)\n",
    "lon_min = 38.364285\n",
    "lat_min = 59.855685\n",
    "lon_max = 38.372809\n",
    "lat_max = 59.859052\n",
    "\n",
    "# API isteği\n",
    "response = requests.get(\n",
    "    f\"{api_url}?lon_min={lon_min}&lat_min={lat_min}&lon_max={lon_max}&lat_max={lat_max}&apikey={api_key}\"\n",
    ")\n",
    "\n",
    "# Dosyaya yazma işlemi\n",
    "if response.status_code == 200:\n",
    "    data = response.json()\n",
    "    with open('opentripmap_data.txt', 'w', encoding='utf-8') as file:\n",
    "        for item in data['features']:\n",
    "            name = item['properties']['name']\n",
    "            kinds = item['properties']['kinds']\n",
    "            wikidata = item['properties']['wikidata']\n",
    "            rate = item['properties']['rate']\n",
    "            file.write(f\"Name: {name}, Kinds: {kinds}, Wikidata: {wikidata}, Rate: {rate}\\n\")\n",
    "    print(\"Data successfully written to opentripmap_data.txt\")\n",
    "else:\n",
    "    print(f\"Error: {response.status_code} - {response.text}\")\n"
   ]
  },
  {
   "cell_type": "code",
   "execution_count": 5,
   "id": "c96cb933",
   "metadata": {},
   "outputs": [
    {
     "name": "stdout",
     "output_type": "stream",
     "text": [
      "Data successfully written to opentripmap_data.txt\n"
     ]
    }
   ],
   "source": [
    "import requests\n",
    "\n",
    "# OpenTripMap API endpoint ve API anahtarınız\n",
    "api_url = 'https://api.opentripmap.com/0.1/en/places/bbox'\n",
    "api_key = '5ae2e3f221c38a28845f05b6a00f3bdd182bf9b082fdb2f95e992380'  # API anahtarınızı buraya girin\n",
    "\n",
    "# İstek yapılacak coğrafi alanın sınırları (örnek olarak belirli bir bölge)\n",
    "lon_min = 38.364285\n",
    "lat_min = 59.855685\n",
    "lon_max = 38.372809\n",
    "lat_max = 59.859052\n",
    "\n",
    "# API isteği\n",
    "response = requests.get(\n",
    "    f\"{api_url}?lon_min={lon_min}&lat_min={lat_min}&lon_max={lon_max}&lat_max={lat_max}&apikey={api_key}\"\n",
    ")\n",
    "\n",
    "# Dosyaya yazma işlemi\n",
    "if response.status_code == 200:\n",
    "    data = response.json()\n",
    "    with open('opentripmap_data.txt', 'w', encoding='utf-8') as file:\n",
    "        for item in data['features']:\n",
    "            properties = item['properties']\n",
    "            name = properties.get('name', 'N/A')\n",
    "            kinds = properties.get('kinds', 'N/A')\n",
    "            wikidata = properties.get('wikidata', 'N/A')\n",
    "            rate = properties.get('rate', 'N/A')\n",
    "            file.write(f\"Name: {name}, Kinds: {kinds}, Wikidata: {wikidata}, Rate: {rate}\\n\")\n",
    "    print(\"Data successfully written to opentripmap_data.txt\")\n",
    "else:\n",
    "    print(f\"Error: {response.status_code} - {response.text}\")\n"
   ]
  },
  {
   "cell_type": "code",
   "execution_count": 6,
   "id": "fbfe82b9",
   "metadata": {},
   "outputs": [
    {
     "name": "stdout",
     "output_type": "stream",
     "text": [
      "Data successfully written to opentripmap_bangkok_data.txt\n"
     ]
    }
   ],
   "source": [
    "import requests\n",
    "\n",
    "# OpenTripMap API endpoint ve API anahtarınız\n",
    "api_url = 'https://api.opentripmap.com/0.1/en/places/bbox'\n",
    "api_key = '5ae2e3f221c38a28845f05b6a00f3bdd182bf9b082fdb2f95e992380'  # API anahtarınızı buraya girin\n",
    "\n",
    "# Bangkok için coğrafi alanın sınırları\n",
    "lon_min = 100.523186 - 0.05  # Bangkok merkezinin batısında 0.05 derece\n",
    "lat_min = 13.736717 - 0.05  # Bangkok merkezinin güneyinde 0.05 derece\n",
    "lon_max = 100.523186 + 0.05  # Bangkok merkezinin doğusunda 0.05 derece\n",
    "lat_max = 13.736717 + 0.05  # Bangkok merkezinin kuzeyinde 0.05 derece\n",
    "\n",
    "# API isteği\n",
    "response = requests.get(\n",
    "    f\"{api_url}?lon_min={lon_min}&lat_min={lat_min}&lon_max={lon_max}&lat_max={lat_max}&apikey={api_key}\"\n",
    ")\n",
    "\n",
    "# Dosyaya yazma işlemi\n",
    "if response.status_code == 200:\n",
    "    data = response.json()\n",
    "    with open('opentripmap_bangkok_data.txt', 'w', encoding='utf-8') as file:\n",
    "        for item in data['features']:\n",
    "            properties = item['properties']\n",
    "            name = properties.get('name', 'N/A')\n",
    "            kinds = properties.get('kinds', 'N/A')\n",
    "            wikidata = properties.get('wikidata', 'N/A')\n",
    "            rate = properties.get('rate', 'N/A')\n",
    "            file.write(f\"Name: {name}, Kinds: {kinds}, Wikidata: {wikidata}, Rate: {rate}\\n\")\n",
    "    print(\"Data successfully written to opentripmap_bangkok_data.txt\")\n",
    "else:\n",
    "    print(f\"Error: {response.status_code} - {response.text}\")\n"
   ]
  },
  {
   "cell_type": "code",
   "execution_count": 9,
   "id": "b202bb23",
   "metadata": {},
   "outputs": [
    {
     "name": "stdout",
     "output_type": "stream",
     "text": [
      "Data successfully written to opentripmap_bangkok_data.txt\n"
     ]
    }
   ],
   "source": [
    "import requests\n",
    "\n",
    "# OpenTripMap API endpoint ve API anahtarınız\n",
    "api_url = 'https://api.opentripmap.com/0.1/en/places/bbox'\n",
    "api_key = '5ae2e3f221c38a28845f05b6a00f3bdd182bf9b082fdb2f95e992380'  # API anahtarınızı buraya girin\n",
    "\n",
    "# Bangkok için coğrafi alanın sınırları\n",
    "lon_min = 100.523186 - 0.05  # Bangkok merkezinin batısında 0.05 derece\n",
    "lat_min = 13.736717 - 0.05  # Bangkok merkezinin güneyinde 0.05 derece\n",
    "lon_max = 100.523186 + 0.05  # Bangkok merkezinin doğusunda 0.05 derece\n",
    "lat_max = 13.736717 + 0.05  # Bangkok merkezinin kuzeyinde 0.05 derece\n",
    "\n",
    "# API isteği\n",
    "response = requests.get(\n",
    "    f\"{api_url}?lon_min={lon_min}&lat_min={lat_min}&lon_max={lon_max}&lat_max={lat_max}&apikey={api_key}\"\n",
    ")\n",
    "\n",
    "# Dosyaya yazma işlemi\n",
    "if response.status_code == 200:\n",
    "    data = response.json()\n",
    "    with open('opentripmap_bangkok_data.txt', 'w', encoding='utf-8') as file:\n",
    "        for item in data['features']:\n",
    "            properties = item['properties']\n",
    "            name = properties.get('name', 'N/A')\n",
    "            kinds = properties.get('kinds', 'N/A')\n",
    "            voyage = properties.get('voyage', 'N/A')  # Wikidata yerine Voyage kullanılıyor\n",
    "            rate = properties.get('rate', 'N/A')\n",
    "            file.write(f\"Name: {name}, Kinds: {kinds}, Voyage: {voyage}, Rate: {rate}\\n\")\n",
    "    print(\"Data successfully written to opentripmap_bangkok_data.txt\")\n",
    "else:\n",
    "    print(f\"Error: {response.status_code} - {response.text}\")\n"
   ]
  },
  {
   "cell_type": "code",
   "execution_count": 10,
   "id": "216cac72",
   "metadata": {},
   "outputs": [
    {
     "name": "stdout",
     "output_type": "stream",
     "text": [
      "Data for interesting_places successfully written to opentripmap_interesting_places_bangkok_data.txt\n",
      "Data for amusements successfully written to opentripmap_amusements_bangkok_data.txt\n",
      "Error for category sports: 400 - {\"error\":\"Unknown category name: sports (400) - The request could not be understood by the server due to malformed syntax\"}\n",
      "Data for tourist_facilities successfully written to opentripmap_tourist_facilities_bangkok_data.txt\n",
      "Error for category accommodations: 400 - {\"error\":\"Unknown category name: accommodations (400) - The request could not be understood by the server due to malformed syntax\"}\n"
     ]
    }
   ],
   "source": [
    "import requests\n",
    "\n",
    "# OpenTripMap API endpoint ve API anahtarınız\n",
    "api_url = 'https://api.opentripmap.com/0.1/en/places/bbox'\n",
    "api_key = '5ae2e3f221c38a28845f05b6a00f3bdd182bf9b082fdb2f95e992380'  # API anahtarınızı buraya girin\n",
    "\n",
    "# Bangkok coğrafi sınırlarını belirleyin\n",
    "lon_min = 100.4951\n",
    "lat_min = 13.6544\n",
    "lon_max = 100.8819\n",
    "lat_max = 13.9195\n",
    "\n",
    "# İlgi çekici yerler, eğlence yerleri, spor tesisleri, turist tesisleri, konaklama yerleri gibi kategoriler\n",
    "categories = ['interesting_places', 'amusements', 'sports', 'tourist_facilities', 'accommodations']\n",
    "\n",
    "# Her kategori için API'den veri isteği yapın ve sonuçları dosyaya yazın\n",
    "for category in categories:\n",
    "    # API isteği\n",
    "    response = requests.get(\n",
    "        f\"{api_url}?lon_min={lon_min}&lat_min={lat_min}&lon_max={lon_max}&lat_max={lat_max}&kinds={category}&apikey={api_key}\"\n",
    "    )\n",
    "\n",
    "    # Verileri çözümle ve bir metin dosyasına yaz\n",
    "    if response.status_code == 200:\n",
    "        data = response.json()\n",
    "        file_name = f'opentripmap_{category}_bangkok_data.txt'\n",
    "        with open(file_name, 'w', encoding='utf-8') as file:\n",
    "            for item in data['features']:\n",
    "                properties = item['properties']\n",
    "                name = properties.get('name', 'N/A')\n",
    "                kinds = properties.get('kinds', 'N/A')\n",
    "                rate = properties.get('rate', 'N/A')\n",
    "                file.write(f\"Name: {name}, Kinds: {kinds}, Rate: {rate}\\n\")\n",
    "        print(f\"Data for {category} successfully written to {file_name}\")\n",
    "    else:\n",
    "        print(f\"Error for category {category}: {response.status_code} - {response.text}\")\n"
   ]
  },
  {
   "cell_type": "code",
   "execution_count": null,
   "id": "8836250e",
   "metadata": {},
   "outputs": [],
   "source": []
  }
 ],
 "metadata": {
  "kernelspec": {
   "display_name": "Python 3 (ipykernel)",
   "language": "python",
   "name": "python3"
  },
  "language_info": {
   "codemirror_mode": {
    "name": "ipython",
    "version": 3
   },
   "file_extension": ".py",
   "mimetype": "text/x-python",
   "name": "python",
   "nbconvert_exporter": "python",
   "pygments_lexer": "ipython3",
   "version": "3.10.5"
  }
 },
 "nbformat": 4,
 "nbformat_minor": 5
}
