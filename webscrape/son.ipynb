{
 "cells": [
  {
   "cell_type": "code",
   "execution_count": 1,
   "id": "880702f0",
   "metadata": {},
   "outputs": [],
   "source": [
    "import requests\n",
    "import time\n",
    "from bs4 import BeautifulSoup"
   ]
  },
  {
   "cell_type": "code",
   "execution_count": 2,
   "id": "695f4c5f",
   "metadata": {},
   "outputs": [
    {
     "name": "stdout",
     "output_type": "stream",
     "text": [
      "403 Forbidden hatası alındı. 1. yeniden deneme yapılıyor.\n",
      "403 Forbidden hatası alındı. 2. yeniden deneme yapılıyor.\n",
      "403 Forbidden hatası alındı. 3. yeniden deneme yapılıyor.\n",
      "403 Forbidden hatası alındı. 1. yeniden deneme yapılıyor.\n",
      "403 Forbidden hatası alındı. 2. yeniden deneme yapılıyor.\n",
      "403 Forbidden hatası alındı. 1. yeniden deneme yapılıyor.\n"
     ]
    }
   ],
   "source": [
    "namelist = []\n",
    "for i in range(3):\n",
    "    if i == 0:\n",
    "        url = 'https://www.tripadvisor.com.tr/Attractions-g293916-Activities-zft11154-Bangkok.html'\n",
    "    else:\n",
    "        url = 'https://www.tripadvisor.com.tr/Attractions-g293916-Activities-oa'+str(i*30)+'-zft11154-Bangkok.html'\n",
    "\n",
    "    attempt_count = 0\n",
    "    max_attempts = 10\n",
    "    while attempt_count < max_attempts:\n",
    "        try:\n",
    "            response = requests.get(url, headers={'User-Agent': \"Mozilla/5.0\"})\n",
    "            if response.status_code == 200:\n",
    "                soup = BeautifulSoup(response.content, 'html.parser')\n",
    "                elements = soup.find_all('div', class_='XfVdV o AIbhI')\n",
    "                for element in elements:\n",
    "                    name = element.get_text(strip=True)\n",
    "                    namelist.append(name)\n",
    "                break  # Başarılı olduğunda döngüyü kır\n",
    "            elif response.status_code == 403:\n",
    "                print(f\"403 Forbidden hatası alındı. {attempt_count + 1}. yeniden deneme yapılıyor.\")\n",
    "                time.sleep(15)  # 10 saniye bekleyip yeniden deneyin\n",
    "                attempt_count += 1\n",
    "            else:\n",
    "                print(f\"Beklenmeyen hata: {response.status_code}\")\n",
    "                break\n",
    "        except Exception as e:\n",
    "            print(f\"Bir hata oluştu: {e}\")\n",
    "            break\n",
    "\n",
    "    # Her sayfa yüklemesi arasında kısa bir bekleme süresi\n",
    "    time.sleep(5)"
   ]
  },
  {
   "cell_type": "code",
   "execution_count": 3,
   "id": "54d5de02",
   "metadata": {},
   "outputs": [
    {
     "data": {
      "text/plain": [
       "['1.Chatuchak Weekend Market',\n",
       " '2.Pak Khlong Talat (Flower Market)',\n",
       " '3.Khlong Lat Mayom Floating Market',\n",
       " '4.Pratunam Market',\n",
       " '5.Chatuchak Flower Market',\n",
       " '6.Train Night Market',\n",
       " '7.Train Night Market Ratchada',\n",
       " '8.Khlong Toei Market',\n",
       " '9.Taling Chan Floating Market',\n",
       " '10.Soi Rambuttri',\n",
       " '11.Patpong Night Market',\n",
       " '12.Wang Lang Market',\n",
       " '13.W Market',\n",
       " '14.Tha Maharaj',\n",
       " '15.Phahurat Market',\n",
       " '16.Sukhumvit Soi 38 Night Food Market',\n",
       " '17.Jodd Fairs',\n",
       " '18.Amulet Market',\n",
       " '19.Bangrak Bazaar',\n",
       " '20.Liab Duan Night Market',\n",
       " '21.Huai Khwang Night Market',\n",
       " '22.Rod Fai Night Market 2',\n",
       " '23.็Huamum Night Market',\n",
       " '24.Khlong Lat Mayom',\n",
       " '25.Sukhumvit Road Street market',\n",
       " '26.Indy Market',\n",
       " '27.Kwan-Riam Floating Market',\n",
       " '28.Chang Chui Plane Market',\n",
       " '29.Suvarnabhumi Outdoor Market',\n",
       " '30.Silom Night Market',\n",
       " '31.ChangChui Creative Park',\n",
       " '32.Ta Prachan market',\n",
       " '33.Jodd Fairs DanNeramit',\n",
       " '34.Food Villa Ratchaphruek',\n",
       " '35.Talad Neon',\n",
       " '36.Bon Marche Market Park',\n",
       " '37.Lumpini Park Food Stalls',\n",
       " '38.Khlong Bang Luang Floating Market',\n",
       " '39.Ruam Sab Market',\n",
       " '40.The Camp - Vintage Flea Market',\n",
       " '41.Thonburi Market - Sanam Luang 2',\n",
       " '42.TGIF Market',\n",
       " '43.Siam Square',\n",
       " '44.Wat Sai Floating Market',\n",
       " '45.Ying Charoen Market',\n",
       " '46.Heera Thai Massage & Aromatherapy',\n",
       " '47.Lalai Sap Market',\n",
       " '48.Tawanna Market',\n",
       " '49.Gourmet Market Terminal 21',\n",
       " '50.Guate Leather bags shop',\n",
       " '51.Ramkhamhaeng University Night Market',\n",
       " '52.Talat Nam Song Khlong Wat Talingchan',\n",
       " '53.Chatuchak Night Plant Market',\n",
       " '54.Bangsue Junction Shopping Center',\n",
       " '55.Venice Di Iris',\n",
       " '56.Sai Tai Center, Sai Tai Mai',\n",
       " '57.Oasis Outdoor Arena and Creative Market',\n",
       " '58.Saphan Phut (Memorial Bridge) Night Market',\n",
       " '59.Trok Mor Morning Market',\n",
       " '60.Khlong Phadung Krung Kasem Floating Market',\n",
       " '61.Din Daeng Market',\n",
       " '62.Thai Airways Market',\n",
       " '63.TGIF Market @ Central Plaza Lardprao',\n",
       " '64.Chatujak weekend Market',\n",
       " '65.Minburi Market',\n",
       " '66.Mahanak Market',\n",
       " '67.Runway3119',\n",
       " '68.Ratchawat Market',\n",
       " '69.Thonburi Market Place',\n",
       " '70.Southern Market (Klong Lord2)',\n",
       " '71.Chaengmarket',\n",
       " '72.Old Market',\n",
       " '73.Tanommit Market',\n",
       " '74.Khlong Ong Ang Night Bazar',\n",
       " \"75.One O'One Market\",\n",
       " '76.Suan Lum Night Bazaar',\n",
       " '77.Palladium Night Market',\n",
       " '78.Maneejun massage',\n",
       " '79.J J Thai Food',\n",
       " '80.Trok Sake',\n",
       " '81.SONITE DÉCOR',\n",
       " '82.Bangkapi Local Market']"
      ]
     },
     "execution_count": 3,
     "metadata": {},
     "output_type": "execute_result"
    }
   ],
   "source": [
    "namelist"
   ]
  },
  {
   "cell_type": "code",
   "execution_count": 12,
   "id": "6b1b7b38",
   "metadata": {},
   "outputs": [
    {
     "name": "stdout",
     "output_type": "stream",
     "text": [
      "403 Forbidden hatası alındı. 1. yeniden deneme yapılıyor.\n",
      "403 Forbidden hatası alındı. 1. yeniden deneme yapılıyor.\n"
     ]
    }
   ],
   "source": [
    "ratecount = []\n",
    "rates = []\n",
    "namess = []\n",
    "max_attempts = 10\n",
    "\n",
    "for i in range(3):\n",
    "    if i == 0:\n",
    "        url = 'https://www.tripadvisor.com.tr/Attractions-g293916-Activities-zft11154-Bangkok.html'\n",
    "    else:\n",
    "        url = 'https://www.tripadvisor.com.tr/Attractions-g293916-Activities-oa' + str(i*30) + '-zft11154-Bangkok.html'\n",
    "\n",
    "    attempt_count = 0\n",
    "    while attempt_count < max_attempts:\n",
    "        try:\n",
    "            response = requests.get(url, headers={'User-Agent': \"Mozilla/5.0\"})\n",
    "            if response.status_code == 200:\n",
    "                soup = BeautifulSoup(response.content, 'html.parser')\n",
    "                name_elements = soup.find_all('div', class_='XfVdV o AIbhI')\n",
    "                rating_elements = soup.find_all('div', class_='jVDab o W f u w JqMhy')\n",
    "\n",
    "                for j in range(min(len(name_elements), len(rating_elements))):\n",
    "                    rating_svg = rating_elements[j].find('svg')\n",
    "                    if rating_svg:\n",
    "                        rating_text = rating_svg.get('aria-label')\n",
    "                        if rating_text:\n",
    "                            # '\\xa0' karakterinden sonrasını almak için split ve son elemanı seçmek\n",
    "                            rating_text = rating_text.split('\\xa0')[-1]\n",
    "                    else:\n",
    "                        rating_text = 'Rating bilgisi bulunamadı'\n",
    "                    #name = name_elements.get_text(strip=True)\n",
    "                    namess.append(name)\n",
    "                    rating_number = rating_elements[j].find('span', class_='biGQs _P pZUbB osNWb').get_text(strip=True)\n",
    "                    rates.append(rating_number)\n",
    "                    ratecount.append(rating_text)\n",
    "                break  # Başarılı olduğunda döngüyü kır\n",
    "            elif response.status_code == 403:\n",
    "                print(f\"403 Forbidden hatası alındı. {attempt_count + 1}. yeniden deneme yapılıyor.\")\n",
    "                time.sleep(15)  # 10 saniye bekleyip yeniden deneyin\n",
    "                attempt_count += 1\n",
    "            else:\n",
    "                print(f\"Beklenmeyen hata: {response.status_code}\")\n",
    "                break\n",
    "        except Exception as e:\n",
    "            print(f\"Bir hata oluştu: {e}\")\n",
    "            break\n",
    "\n",
    "    time.sleep(5) "
   ]
  },
  {
   "cell_type": "code",
   "execution_count": 13,
   "id": "e3f6c14d",
   "metadata": {},
   "outputs": [
    {
     "name": "stdout",
     "output_type": "stream",
     "text": [
      "['4,5', '4,0', '4,5', '4,0', '4,5', '4,5', '4,0', '4,5', '3,5', '4,5', '3,0', '4,0', '4,0', '4,0', '4,0', '4,0', '4,0', '4,0', '4,5', '4,0', '4,0', '4,0', '4,0', '4,5', '3,5', '4,0', '4,0', '4,5', '4,0', '3,5', '4,0', '4,0', '5,0', '4,5', '3,5', '4,0', '3,5', '3,5', '5,0', '4,0', '4,0', '5,0', '4,0', '3,0', '4,0', '4,5', '4,0', '4,0', '4,5', '5,0', '4,0', '5,0', '4,0', '4,0', '3,0', '4,0', '5,0', '3,0', '4,0', '3,0', '3,0', '4,0', '4,0', '5,0', '3,0', '4,0', '2,5', '2,5', '4,0', '4,0', '3,0', '2,0'] , \n",
      "['18.092', '1.002', '562', '1.460', '1.295', '989', '1.265', '245', '1.373', '143', '2.819', '163', '158', '226', '179', '480', '108', '107', '101', '74', '96', '168', '58', '52', '156', '31', '159', '14', '30', '359', '102', '28', '7', '14', '119', '32', '26', '27', '3', '14', '9', '5', '743', '155', '12', '7', '9', '9', '4', '2', '34', '2', '3', '1', '8', '1', '1', '8', '1', '9', '5', '1', '1', '1', '1', '1', '4', '3', '1', '1', '1', '45'] , \n",
      "72\n"
     ]
    }
   ],
   "source": [
    "\n",
    "print(ratecount, \", \")\n",
    "print(rates , \", \")\n",
    "print(len(ratecount))"
   ]
  },
  {
   "cell_type": "code",
   "execution_count": 27,
   "id": "ed1af80e",
   "metadata": {},
   "outputs": [
    {
     "name": "stdout",
     "output_type": "stream",
     "text": [
      "403 Forbidden hatası alındı. 1. yeniden deneme yapılıyor.\n",
      "403 Forbidden hatası alındı. 1. yeniden deneme yapılıyor.\n"
     ]
    }
   ],
   "source": [
    "import requests\n",
    "from bs4 import BeautifulSoup\n",
    "import time\n",
    "\n",
    "namess = []\n",
    "rates = []\n",
    "max_attempts = 10\n",
    "\n",
    "for i in range(3):\n",
    "    if i == 0:\n",
    "        url = 'https://www.tripadvisor.com.tr/Attractions-g293916-Activities-zft11154-Bangkok.html'\n",
    "    else:\n",
    "        url = 'https://www.tripadvisor.com.tr/Attractions-g293916-Activities-oa' + str(i*30) + '-zft11154-Bangkok.html'\n",
    "\n",
    "    attempt_count = 0\n",
    "    while attempt_count < max_attempts:\n",
    "        try:\n",
    "            response = requests.get(url, headers={'User-Agent': \"Mozilla/5.0\"})\n",
    "            if response.status_code == 200:\n",
    "                soup = BeautifulSoup(response.content, 'html.parser')\n",
    "                div_elements = soup.find_all('div', class_='alPVI eNNhq PgLKC tnGGX')\n",
    "\n",
    "                for div in div_elements:\n",
    "                    # Mekan adını bul\n",
    "                    name_element = div.find('div', class_='XfVdV o AIbhI')\n",
    "                    if name_element:\n",
    "                        name = name_element.get_text(strip=True)\n",
    "                        namess.append(name)\n",
    "                    else:\n",
    "                        namess.append('no data')\n",
    "\n",
    "                    # Puanı bul\n",
    "                    rating_element = div.find('div', class_='jVDab o W f u w JqMhy')\n",
    "                    if rating_element:\n",
    "                        rating_svg = rating_element.find('svg')\n",
    "                        if rating_svg and rating_svg.get('aria-label'):\n",
    "                            rating_text = rating_svg.get('aria-label').split('\\xa0')[-1]\n",
    "                        else:\n",
    "                            rating_text = 'no data'\n",
    "                    else:\n",
    "                        rating_text = 'no data'\n",
    "\n",
    "                    rates.append(rating_text)\n",
    "                break\n",
    "            elif response.status_code == 403:\n",
    "                print(f\"403 Forbidden hatası alındı. {attempt_count + 1}. yeniden deneme yapılıyor.\")\n",
    "                time.sleep(15)\n",
    "                attempt_count += 1\n",
    "            else:\n",
    "                print(f\"Beklenmeyen hata: {response.status_code}\")\n",
    "                break\n",
    "        except Exception as e:\n",
    "            print(f\"Bir hata oluştu: {e}\")\n",
    "            break\n",
    "\n",
    "    time.sleep(5)\n"
   ]
  },
  {
   "cell_type": "code",
   "execution_count": 28,
   "id": "ad9efbcb",
   "metadata": {},
   "outputs": [
    {
     "name": "stdout",
     "output_type": "stream",
     "text": [
      "['1.Chatuchak Weekend Market', '2.Pak Khlong Talat (Flower Market)', '3.Khlong Lat Mayom Floating Market', '4.Pratunam Market', '5.Chatuchak Flower Market', '6.Train Night Market', '7.Train Night Market Ratchada', '8.Khlong Toei Market', '9.Taling Chan Floating Market', '10.Soi Rambuttri', '11.Patpong Night Market', '12.Wang Lang Market', '13.W Market', '14.Tha Maharaj', '15.Phahurat Market', '16.Sukhumvit Soi 38 Night Food Market', '17.Jodd Fairs', '18.Amulet Market', '19.Bangrak Bazaar', '20.Liab Duan Night Market', '21.Huai Khwang Night Market', '22.Rod Fai Night Market 2', '23.็Huamum Night Market', '24.Khlong Lat Mayom', '25.Sukhumvit Road Street market', '26.Indy Market', '27.Kwan-Riam Floating Market', '28.Chang Chui Plane Market', '29.Suvarnabhumi Outdoor Market', '30.Silom Night Market', '31.ChangChui Creative Park', '32.Ta Prachan market', '33.Jodd Fairs DanNeramit', '34.Food Villa Ratchaphruek', '35.Talad Neon', '36.Bon Marche Market Park', '37.Lumpini Park Food Stalls', '38.Khlong Bang Luang Floating Market', '39.Ruam Sab Market', '40.The Camp - Vintage Flea Market', '41.Thonburi Market - Sanam Luang 2', '42.TGIF Market', '43.Siam Square', '44.Wat Sai Floating Market', '45.Ying Charoen Market', '46.Heera Thai Massage & Aromatherapy', '47.Lalai Sap Market', '48.Tawanna Market', '49.Gourmet Market Terminal 21', '50.Guate Leather bags shop', '51.Ramkhamhaeng University Night Market', '52.Talat Nam Song Khlong Wat Talingchan', '53.Chatuchak Night Plant Market', '54.Bangsue Junction Shopping Center', '55.Venice Di Iris', '56.Sai Tai Center, Sai Tai Mai', '57.Oasis Outdoor Arena and Creative Market', '58.Saphan Phut (Memorial Bridge) Night Market', '59.Trok Mor Morning Market', '60.Khlong Phadung Krung Kasem Floating Market', '61.Din Daeng Market', '62.Thai Airways Market', '63.TGIF Market @ Central Plaza Lardprao', '64.Chatujak weekend Market', '65.Minburi Market', '66.Mahanak Market', '67.Runway3119', '68.Ratchawat Market', '69.Thonburi Market Place', '70.Southern Market (Klong Lord2)', '71.Chaengmarket', '72.Old Market', '73.Tanommit Market', '74.Khlong Ong Ang Night Bazar', \"75.One O'One Market\", '76.Suan Lum Night Bazaar', '77.Palladium Night Market', '78.Maneejun massage', '79.J J Thai Food', '80.Trok Sake', '81.SONITE DÉCOR', '82.Bangkapi Local Market'] , \n",
      "['4,5', '4,0', '4,5', '4,0', '4,5', '4,5', '4,0', '4,5', '3,5', '4,5', '3,0', '4,0', '4,0', '4,0', '4,0', '4,0', '4,0', '4,0', '4,5', '4,0', '4,0', '4,0', '4,0', '4,5', '3,5', '4,0', '4,0', '4,5', '4,0', '3,5', '4,0', '4,0', '5,0', '4,5', '3,5', '4,0', '3,5', '3,5', '5,0', '4,0', '4,0', '5,0', '4,0', '3,0', '4,0', '4,5', '4,0', '4,0', '4,5', '5,0', '4,0', '5,0', '4,0', '4,0', '3,0', '4,0', '5,0', '3,0', '4,0', '3,0', '3,0', '4,0', '4,0', '5,0', '3,0', '4,0', '2,5', '2,5', 'no data', '4,0', 'no data', '4,0', 'no data', '3,0', 'no data', '2,0', 'no data', 'no data', 'no data', 'no data', 'no data', 'no data'] , \n"
     ]
    }
   ],
   "source": [
    "print(namess, \", \")\n",
    "print(rates , \", \")\n"
   ]
  },
  {
   "cell_type": "code",
   "execution_count": 43,
   "id": "30087621",
   "metadata": {},
   "outputs": [
    {
     "name": "stdout",
     "output_type": "stream",
     "text": [
      "403 Forbidden hatası alındı. 1. yeniden deneme yapılıyor.\n",
      "403 Forbidden hatası alındı. 1. yeniden deneme yapılıyor.\n",
      "403 Forbidden hatası alındı. 2. yeniden deneme yapılıyor.\n"
     ]
    }
   ],
   "source": [
    "import requests\n",
    "from bs4 import BeautifulSoup\n",
    "import time\n",
    "\n",
    "namess = []\n",
    "rates = []\n",
    "rating_numbers = []\n",
    "place_types = []\n",
    "max_attempts = 10\n",
    "\n",
    "for i in range(3):\n",
    "    if i == 0:\n",
    "        url = 'https://www.tripadvisor.com.tr/Attractions-g293916-Activities-zft11154-Bangkok.html'\n",
    "    else:\n",
    "        url = 'https://www.tripadvisor.com.tr/Attractions-g293916-Activities-oa' + str(i*30) + '-zft11154-Bangkok.html'\n",
    "\n",
    "    attempt_count = 0\n",
    "    while attempt_count < max_attempts:\n",
    "        try:\n",
    "            response = requests.get(url, headers={'User-Agent': \"Mozilla/5.0\"})\n",
    "            if response.status_code == 200:\n",
    "                soup = BeautifulSoup(response.content, 'html.parser')\n",
    "                div_elements = soup.find_all('div', class_='alPVI eNNhq PgLKC tnGGX')\n",
    "                place_type_elements = soup.find_all('div', class_='biGQs _P pZUbB hmDzD')\n",
    "                \n",
    "                for div in div_elements:\n",
    "                    # Mekan adını bul\n",
    "                    name_element = div.find('div', class_='XfVdV o AIbhI')\n",
    "                    name = name_element.get_text(strip=True) if name_element else 'no data'\n",
    "                    namess.append(name)\n",
    "\n",
    "                    # Puanı bul\n",
    "                    rating_element = div.find('div', class_='jVDab o W f u w JqMhy')\n",
    "                    if rating_element:\n",
    "                        rating_svg = rating_element.find('svg')\n",
    "                        rating_text = rating_svg.get('aria-label').split('\\xa0')[-1] if rating_svg and rating_svg.get('aria-label') else 'no data'\n",
    "\n",
    "                        # Doğru seçici ile rating_number'ı bul\n",
    "                        rating_number_span = rating_element.find('span', class_='biGQs _P pZUbB osNWb')\n",
    "                        rating_number = rating_number_span.get_text(strip=True) if rating_number_span else 'no data'\n",
    "                    else:\n",
    "                        rating_text = 'no data'\n",
    "                        rating_number = 'no data'\n",
    "\n",
    "                    rates.append(rating_text)\n",
    "                    rating_numbers.append(rating_number)\n",
    "                    \n",
    "                specific_divs = soup.find_all('div', class_='alPVI eNNhq PgLKC tnGGX yzLvM')\n",
    "                for specific_div in specific_divs:\n",
    "                    place_type_div = specific_div.find('div', class_='biGQs _P pZUbB hmDzD')\n",
    "                    if place_type_div:\n",
    "                        place_type = place_type_div.get_text(strip=True)\n",
    "                        place_types.append(place_type)\n",
    "                    \n",
    "                break\n",
    "            elif response.status_code == 403:\n",
    "                print(f\"403 Forbidden hatası alındı. {attempt_count + 1}. yeniden deneme yapılıyor.\")\n",
    "                time.sleep(15)\n",
    "                attempt_count += 1\n",
    "            else:\n",
    "                print(f\"Beklenmeyen hata: {response.status_code}\")\n",
    "                break\n",
    "        except Exception as e:\n",
    "            print(f\"Bir hata oluştu: {e}\")\n",
    "            break\n",
    "\n",
    "    time.sleep(5)\n"
   ]
  },
  {
   "cell_type": "code",
   "execution_count": 44,
   "id": "6f32a185",
   "metadata": {},
   "outputs": [
    {
     "name": "stdout",
     "output_type": "stream",
     "text": [
      "['1.Chatuchak Weekend Market', '2.Pak Khlong Talat (Flower Market)', '3.Khlong Lat Mayom Floating Market', '4.Pratunam Market', '5.Chatuchak Flower Market', '6.Train Night Market', '7.Train Night Market Ratchada', '8.Khlong Toei Market', '9.Taling Chan Floating Market', '10.Soi Rambuttri', '11.Patpong Night Market', '12.Wang Lang Market', '13.W Market', '14.Tha Maharaj', '15.Phahurat Market', '16.Sukhumvit Soi 38 Night Food Market', '17.Jodd Fairs', '18.Amulet Market', '19.Bangrak Bazaar', '20.Liab Duan Night Market', '21.Huai Khwang Night Market', '22.Rod Fai Night Market 2', '23.็Huamum Night Market', '24.Khlong Lat Mayom', '25.Sukhumvit Road Street market', '26.Indy Market', '27.Kwan-Riam Floating Market', '28.Chang Chui Plane Market', '29.Suvarnabhumi Outdoor Market', '30.Silom Night Market', '31.ChangChui Creative Park', '32.Ta Prachan market', '33.Jodd Fairs DanNeramit', '34.Food Villa Ratchaphruek', '35.Talad Neon', '36.Bon Marche Market Park', '37.Lumpini Park Food Stalls', '38.Khlong Bang Luang Floating Market', '39.Ruam Sab Market', '40.The Camp - Vintage Flea Market', '41.Thonburi Market - Sanam Luang 2', '42.TGIF Market', '43.Siam Square', '44.Wat Sai Floating Market', '45.Ying Charoen Market', '46.Heera Thai Massage & Aromatherapy', '47.Lalai Sap Market', '48.Tawanna Market', '49.Gourmet Market Terminal 21', '50.Guate Leather bags shop', '51.Ramkhamhaeng University Night Market', '52.Talat Nam Song Khlong Wat Talingchan', '53.Chatuchak Night Plant Market', '54.Bangsue Junction Shopping Center', '55.Venice Di Iris', '56.Sai Tai Center, Sai Tai Mai', '57.Oasis Outdoor Arena and Creative Market', '58.Saphan Phut (Memorial Bridge) Night Market', '59.Trok Mor Morning Market', '60.Khlong Phadung Krung Kasem Floating Market', '61.Din Daeng Market', '62.Thai Airways Market', '63.TGIF Market @ Central Plaza Lardprao', '64.Chatujak weekend Market', '65.Minburi Market', '66.Mahanak Market', '67.Runway3119', '68.Ratchawat Market', '69.Thonburi Market Place', '70.Southern Market (Klong Lord2)', '71.Chaengmarket', '72.Old Market', '73.Tanommit Market', '74.Khlong Ong Ang Night Bazar', \"75.One O'One Market\", '76.Suan Lum Night Bazaar', '77.Palladium Night Market', '78.Maneejun massage', '79.J J Thai Food', '80.Trok Sake', '81.SONITE DÉCOR', '82.Bangkapi Local Market'] , \n",
      "['4,5', '4,0', '4,5', '4,0', '4,5', '4,5', '4,0', '4,5', '3,5', '4,5', '3,0', '4,0', '4,0', '4,0', '4,0', '4,0', '4,0', '4,0', '4,5', '4,0', '4,0', '4,0', '4,0', '4,5', '3,5', '4,0', '4,0', '4,5', '4,0', '3,5', '4,0', '4,0', '5,0', '4,5', '3,5', '4,0', '3,5', '3,5', '5,0', '4,0', '4,0', '5,0', '4,0', '3,0', '4,0', '4,5', '4,0', '4,0', '4,5', '5,0', '4,0', '5,0', '4,0', '4,0', '3,0', '4,0', '5,0', '3,0', '4,0', '3,0', '3,0', '4,0', '4,0', '5,0', '3,0', '4,0', '2,5', '2,5', 'no data', '4,0', 'no data', '4,0', 'no data', '3,0', 'no data', '2,0', 'no data', 'no data', 'no data', 'no data', 'no data', 'no data'] , \n",
      "['18.092', '1.002', '562', '1.460', '1.295', '989', '1.265', '245', '1.373', '143', '2.819', '163', '158', '226', '179', '480', '108', '107', '101', '74', '96', '168', '58', '52', '156', '31', '159', '14', '30', '359', '102', '28', '7', '14', '119', '32', '26', '27', '3', '14', '9', '5', '743', '155', '12', '7', '9', '9', '4', '2', '34', '2', '3', '1', '8', '1', '1', '8', '1', '9', '5', '1', '1', '1', '1', '1', '4', '3', 'no data', '1', 'no data', '1', 'no data', '1', 'no data', '45', 'no data', 'no data', 'no data', 'no data', 'no data', 'no data'] , \n",
      "['Bit Pazarları ve Sokak Pazarları', 'Bit Pazarları ve Sokak Pazarları', 'Bit Pazarları ve Sokak Pazarları', 'Bit Pazarları ve Sokak Pazarları', 'Bit Pazarları ve Sokak Pazarları', 'Bit Pazarları ve Sokak Pazarları', 'Bit Pazarları ve Sokak Pazarları', 'Bit Pazarları ve Sokak Pazarları', 'Bit Pazarları ve Sokak Pazarları', 'Bit Pazarları ve Sokak Pazarları', 'Bit Pazarları ve Sokak Pazarları', 'Bit Pazarları ve Sokak Pazarları', 'Bit Pazarları ve Sokak Pazarları', 'Bit Pazarları ve Sokak Pazarları • Alışveriş Merkezleri', 'Bit Pazarları ve Sokak Pazarları', 'Bit Pazarları ve Sokak Pazarları', 'Bit Pazarları ve Sokak Pazarları', 'Bit Pazarları ve Sokak Pazarları', 'Bit Pazarları ve Sokak Pazarları', 'Bit Pazarları ve Sokak Pazarları', 'Bit Pazarları ve Sokak Pazarları', 'Bit Pazarları ve Sokak Pazarları', 'Bit Pazarları ve Sokak Pazarları', 'Bit Pazarları ve Sokak Pazarları', 'Bit Pazarları ve Sokak Pazarları', 'Bit Pazarları ve Sokak Pazarları', 'Bit Pazarları ve Sokak Pazarları', 'Sanat Galerileri • Bit Pazarları ve Sokak Pazarları', 'Bit Pazarları ve Sokak Pazarları', 'Bit Pazarları ve Sokak Pazarları', 'Sanat Galerileri • Parklar', 'Bit Pazarları ve Sokak Pazarları', 'Bit Pazarları ve Sokak Pazarları', 'Bit Pazarları ve Sokak Pazarları', 'Bit Pazarları ve Sokak Pazarları', 'Bit Pazarları ve Sokak Pazarları', 'Bit Pazarları ve Sokak Pazarları', 'Bit Pazarları ve Sokak Pazarları', 'Bit Pazarları ve Sokak Pazarları', 'Bit Pazarları ve Sokak Pazarları', 'Bit Pazarları ve Sokak Pazarları', 'Bit Pazarları ve Sokak Pazarları', 'Özel ve Hediyelik Eşya Dükkânları', 'Bit Pazarları ve Sokak Pazarları', 'Bit Pazarları ve Sokak Pazarları', 'Havalimanı Mağazaları • Akvaryumlar', 'Bit Pazarları ve Sokak Pazarları', 'Özel ve Hediyelik Eşya Dükkânları • Antikacı Dükkânları', 'Bit Pazarları ve Sokak Pazarları', 'Bit Pazarları ve Sokak Pazarları', 'Özel ve Hediyelik Eşya Dükkânları • Bit Pazarları ve Sokak Pazarları', 'Bit Pazarları ve Sokak Pazarları', 'Bit Pazarları ve Sokak Pazarları', 'Bit Pazarları ve Sokak Pazarları', 'Bit Pazarları ve Sokak Pazarları • Alışveriş Merkezleri', 'Bit Pazarları ve Sokak Pazarları', 'Bit Pazarları ve Sokak Pazarları', 'Bit Pazarları ve Sokak Pazarları', 'Bit Pazarları ve Sokak Pazarları', 'Bit Pazarları ve Sokak Pazarları', 'Bit Pazarları ve Sokak Pazarları', 'Bit Pazarları ve Sokak Pazarları', 'Bit Pazarları ve Sokak Pazarları', 'Bit Pazarları ve Sokak Pazarları', 'Bit Pazarları ve Sokak Pazarları', 'Bit Pazarları ve Sokak Pazarları', 'Bit Pazarları ve Sokak Pazarları', 'Bit Pazarları ve Sokak Pazarları', 'Bit Pazarları ve Sokak Pazarları', 'Bit Pazarları ve Sokak Pazarları', 'Bit Pazarları ve Sokak Pazarları', 'Bit Pazarları ve Sokak Pazarları', 'Bit Pazarları ve Sokak Pazarları', 'Bit Pazarları ve Sokak Pazarları', 'Bit Pazarları ve Sokak Pazarları', 'Bit Pazarları ve Sokak Pazarları', 'Bit Pazarları ve Sokak Pazarları', 'Bit Pazarları ve Sokak Pazarları', 'Bit Pazarları ve Sokak Pazarları', 'Bit Pazarları ve Sokak Pazarları', 'Bit Pazarları ve Sokak Pazarları', 'Bit Pazarları ve Sokak Pazarları']\n"
     ]
    }
   ],
   "source": [
    "print(namess, \", \")\n",
    "print(rates , \", \")\n",
    "print(rating_numbers, \", \")\n",
    "print(place_types)"
   ]
  },
  {
   "cell_type": "code",
   "execution_count": null,
   "id": "dab73959",
   "metadata": {},
   "outputs": [],
   "source": []
  }
 ],
 "metadata": {
  "kernelspec": {
   "display_name": "Python 3 (ipykernel)",
   "language": "python",
   "name": "python3"
  },
  "language_info": {
   "codemirror_mode": {
    "name": "ipython",
    "version": 3
   },
   "file_extension": ".py",
   "mimetype": "text/x-python",
   "name": "python",
   "nbconvert_exporter": "python",
   "pygments_lexer": "ipython3",
   "version": "3.10.5"
  }
 },
 "nbformat": 4,
 "nbformat_minor": 5
}
